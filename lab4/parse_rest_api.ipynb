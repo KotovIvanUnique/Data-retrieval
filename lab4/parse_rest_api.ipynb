{
 "cells": [
  {
   "cell_type": "code",
   "execution_count": 27,
   "metadata": {},
   "outputs": [],
   "source": [
    "import pandas as pd\n",
    "import requests\n",
    "import json\n",
    "from time import sleep"
   ]
  },
  {
   "cell_type": "code",
   "execution_count": 28,
   "metadata": {},
   "outputs": [],
   "source": [
    "data=pd.read_csv('../data/IMDB Movie Titles.csv', engine='python')"
   ]
  },
  {
   "cell_type": "code",
   "execution_count": 29,
   "metadata": {},
   "outputs": [],
   "source": [
    "ids=data['Movie ID'].tolist()"
   ]
  },
  {
   "cell_type": "code",
   "execution_count": 30,
   "metadata": {
    "scrolled": true
   },
   "outputs": [
    {
     "name": "stdout",
     "output_type": "stream",
     "text": [
      "7823\n",
      "8123\n",
      "8423\n",
      "8723\n",
      "9023\n",
      "9323\n",
      "9623\n",
      "9923\n",
      "10223\n",
      "10523\n",
      "10823\n",
      "11123\n",
      "11423\n",
      "11723\n",
      "12023\n",
      "12323\n",
      "12623\n",
      "12923\n",
      "13223\n",
      "13523\n",
      "13823\n",
      "14123\n",
      "14423\n",
      "14723\n",
      "15023\n",
      "15323\n",
      "408\n",
      "15623\n",
      "408\n",
      "408\n",
      "15923\n",
      "16223\n",
      "16523\n"
     ]
    }
   ],
   "source": [
    "list_columns=['directors', 'genres', 'release_dates', 'top_3_cast']\n",
    "columns=['directors', 'genres', 'id', 'rating', 'release_dates', 'storyline', 'synopsis', 'title', 'top_3_cast', 'year']\n",
    "\n",
    "data=pd.DataFrame([], columns=columns)\n",
    "data.to_csv('movies.csv', sep='|', mode='w',  index=None)\n",
    "\n",
    "for i, id in enumerate(ids):\n",
    "    if i%323==0:\n",
    "        print(i)\n",
    "    data=pd.DataFrame([], columns=columns)\n",
    "    while True:\n",
    "        try:\n",
    "            res = requests.get(\"http://db.mirvoda.com/movies/{}\".format(id))\n",
    "            if res.status_code==200:\n",
    "                data=data.append(res.json()['movie'][0], ignore_index=True)\n",
    "                for col in list_columns:\n",
    "                    data[col]=data[col].apply(lambda x: ';'.join(x))\n",
    "                data.to_csv('movies.csv', sep='|', mode='a', header=None,  index=None)\n",
    "                sleep(0.3)\n",
    "                break\n",
    "            elif res.status_code==404:\n",
    "                break\n",
    "            else:\n",
    "                print(res.status_code)\n",
    "                sleep(10)\n",
    "        except:\n",
    "            sleep(5)"
   ]
  }
 ],
 "metadata": {
  "kernelspec": {
   "display_name": "Python 3",
   "language": "python",
   "name": "python3"
  },
  "language_info": {
   "codemirror_mode": {
    "name": "ipython",
    "version": 3
   },
   "file_extension": ".py",
   "mimetype": "text/x-python",
   "name": "python",
   "nbconvert_exporter": "python",
   "pygments_lexer": "ipython3",
   "version": "3.6.7"
  }
 },
 "nbformat": 4,
 "nbformat_minor": 2
}
